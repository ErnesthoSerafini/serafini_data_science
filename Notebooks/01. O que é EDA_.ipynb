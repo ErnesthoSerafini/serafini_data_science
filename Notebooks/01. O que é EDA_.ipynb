{
 "cells": [
  {
   "cell_type": "markdown",
   "source": [
    "# O que é EDA?\n",
    "\n",
    "## Objetivo: Explicar o conceito e relevância de EDA."
   ],
   "metadata": {
    "collapsed": false
   }
  },
  {
   "cell_type": "markdown",
   "source": [
    "Agora que já sabemos como usar `pandas` para ler os dados e manipulá-los, vamos aprender a explorá-los de fato?\n",
    "\n",
    "## EDA\n",
    "A etapa inicial de qualquer projeto de análise de dados é chamada de **Análise Exploratória de Dados**. Também chamaremos ela de EDA, da sigla em inglês (*Exploratory Data Analysis*).\n",
    "\n",
    "Na EDA, queremos entender qual a cara dos nossos dados:\n",
    "- Como os dados estão estruturados na tabela ou banco?\n",
    "- Quais são os tipos de dados com que estamos trabalhando?\n",
    "- Os valores dos dados estão validados? Quais problemas surgem?\n",
    "- Todos os dados serão úteis para a nossa análise? Quais dados podemos excluir ou ignorar, e por qual motivo?\n",
    "- PRINCIPAL: **Que insights podemos tirar dos nossos dados**?\n",
    "\n",
    "Para fazer esta análise, é fundamental saber plotar e interpretar diferentes tipos de gráficos. Através de gráficos, informações que inicialmente podem ser muito complexas ou densas são simplificadas, e ajudam na nossa compreensão e até na tomada de decisão."
   ],
   "metadata": {
    "collapsed": false
   }
  },
  {
   "cell_type": "markdown",
   "source": [
    "EDA é um processo relevante para **qualquer carreira** que, em algum momento, se depara com dados. Desde quem trabalha com planilhas e bancos de dados como um usuário, até quem é propriamente um analista de dados, cientista de dados, ou engenheiro de dados.\n",
    "\n",
    "Às vezes, sabemos bem o que queremos encontrar nos dados. Se o seu chefe lhe pede algo como \"calcule a média de vendas dos últimos 15 dias\" é uma tarefa relativamente fechada. Mas é cada vez mais comum, em um mundo repleto de dados e de todas as naturezas, que tenhamos muito mais dados e muito mais perguntas na nossa cabeça. E é nesse ambiente que a EDA chega para tentar dar aquela \"clareada inicial\" e realmente entender com o que estamos trabalhando.\n",
    "\n",
    "Se você já se deparou em algum momento com um conjunto de dados, e teve que usar a sua criatividade para tentar plotar gráficos, calcular médias, ou extrair alguma informação de valor, então você já fez EDA sem nem se dar conta!"
   ],
   "metadata": {
    "collapsed": false
   }
  }
 ],
 "metadata": {
  "kernelspec": {
   "display_name": "Python 3",
   "language": "python",
   "name": "python3"
  },
  "language_info": {
   "codemirror_mode": {
    "name": "ipython",
    "version": 2
   },
   "file_extension": ".py",
   "mimetype": "text/x-python",
   "name": "python",
   "nbconvert_exporter": "python",
   "pygments_lexer": "ipython2",
   "version": "2.7.6"
  }
 },
 "nbformat": 4,
 "nbformat_minor": 0
}
